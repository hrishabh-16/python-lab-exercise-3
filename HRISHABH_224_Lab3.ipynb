{
 "cells": [
  {
   "cell_type": "code",
   "execution_count": 1,
   "metadata": {},
   "outputs": [
    {
     "name": "stdout",
     "output_type": "stream",
     "text": [
      "{'name': 'hrishabh', 'Domain_name': 'onlineElection', 'Regno': '2347224'}\n"
     ]
    }
   ],
   "source": [
    "#function to take input a parameter of stringsplit \n",
    "def decode_string(stringsplit):\n",
    "    splitIT = stringsplit.split('__')\n",
    "    \n",
    "    name = splitIT[0].strip()\n",
    "    domain_name = splitIT[1].strip()\n",
    "    regno = splitIT[2].strip()\n",
    "    \n",
    "    dict = { \n",
    "        \"name\": splitIT[0],\n",
    "        \"Domain_name\" : splitIT[1], \n",
    "        \"Regno\": splitIT[2] \n",
    "    }\n",
    "    \n",
    "    return dict\n",
    "\n",
    "#passing the string to the fuction\n",
    "encoded_string = \"hrishabh__onlineElection__2347224\"\n",
    "decoded_dict = decode_string(encoded_string)\n",
    "print(decoded_dict)"
   ]
  }
 ],
 "metadata": {
  "kernelspec": {
   "display_name": "Python 3",
   "language": "python",
   "name": "python3"
  },
  "language_info": {
   "codemirror_mode": {
    "name": "ipython",
    "version": 3
   },
   "file_extension": ".py",
   "mimetype": "text/x-python",
   "name": "python",
   "nbconvert_exporter": "python",
   "pygments_lexer": "ipython3",
   "version": "3.11.4"
  },
  "orig_nbformat": 4
 },
 "nbformat": 4,
 "nbformat_minor": 2
}
